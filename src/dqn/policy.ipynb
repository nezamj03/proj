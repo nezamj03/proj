{
 "cells": [
  {
   "cell_type": "code",
   "execution_count": 1,
   "metadata": {},
   "outputs": [
    {
     "name": "stdout",
     "output_type": "stream",
     "text": [
      "Requirement already satisfied: pyyaml in /Users/nezamjazayeri/Documents/neu/cs5180/proj/env/lib/python3.9/site-packages (6.0.1)\n"
     ]
    }
   ],
   "source": [
    "!pip install pyyaml\n",
    "import yaml"
   ]
  },
  {
   "cell_type": "code",
   "execution_count": 4,
   "metadata": {},
   "outputs": [],
   "source": [
    "import numpy as np\n",
    "import torch \n",
    "import sys\n",
    "sys.path.append('/Users/nezamjazayeri/Documents/neu/cs5180/proj/src')\n",
    "\n",
    "from networks.mlp import MLP\n",
    "from utils.parse_config import load_config"
   ]
  },
  {
   "cell_type": "code",
   "execution_count": 64,
   "metadata": {},
   "outputs": [
    {
     "data": {
      "text/plain": [
       "<All keys matched successfully>"
      ]
     },
     "execution_count": 64,
     "metadata": {},
     "output_type": "execute_result"
    }
   ],
   "source": [
    "config = load_config('config/default.yaml')\n",
    "num_players = config['env_args']['num_players']\n",
    "\n",
    "\n",
    "def generate(t, winner=False):\n",
    "\n",
    "    if t == 0:\n",
    "        return [0, num_players, 0, 0, 0]\n",
    "    res = [0, 0, 0, 0, 0]\n",
    "    res[0] = t\n",
    "    res[1] = max(num_players - (t * 4), 2)\n",
    "    res[2] = max(1, max(num_players - ((t - 1) * 4), 2) - 1)\n",
    "    res[3] = 0\n",
    "    if winner == True:\n",
    "        res[3] = 1\n",
    "    res[4] = 1\n",
    "    return res\n",
    "\n",
    "STATES = [\n",
    "    generate(0),\n",
    "    generate(1),\n",
    "    generate(2),\n",
    "    generate(3),\n",
    "    generate(4)\n",
    "]\n",
    "\n",
    "STATES_v2 = [\n",
    "    generate(0, winner=True),\n",
    "    generate(1, winner=True),\n",
    "    generate(2, winner=True),\n",
    "    generate(3, winner=True),\n",
    "    generate(4, winner=True)\n",
    "]\n",
    "\n",
    "state_size = 5\n",
    "action_size = 2\n",
    "\n",
    "model = MLP(state_size, action_size, config)\n",
    "load = config['total_train_t']\n",
    "path = f\"/Users/nezamjazayeri/Documents/neu/cs5180/proj/res/models/DQN/20240428/{load}/dummy/q_network.pt\"\n",
    "model.load_state_dict(torch.load(path))\n"
   ]
  },
  {
   "cell_type": "code",
   "execution_count": 62,
   "metadata": {},
   "outputs": [],
   "source": [
    "def get_qvalues(state):\n",
    "    with torch.no_grad():\n",
    "        state = torch.FloatTensor(state).unsqueeze(0)  # Convert state to tensor and add batch dimension\n",
    "        q_values = model(state)\n",
    "    print(f'@ round {int(state[0][0].item()) + 1}:',\n",
    "          f'q0= {round(q_values[0][0].item(), 3)},',\n",
    "          f'q1= {round(q_values[0][1].item(), 3)}')"
   ]
  },
  {
   "cell_type": "code",
   "execution_count": 63,
   "metadata": {},
   "outputs": [
    {
     "name": "stdout",
     "output_type": "stream",
     "text": [
      "@ round 1: q0= 0.02, q1= 0.024\n",
      "@ round 2: q0= 0.02, q1= 0.024\n",
      "@ round 3: q0= 0.02, q1= 0.024\n",
      "@ round 4: q0= 0.02, q1= 0.024\n",
      "@ round 5: q0= 0.02, q1= 0.024\n"
     ]
    }
   ],
   "source": [
    "for state in STATES:\n",
    "    get_qvalues(state)"
   ]
  },
  {
   "cell_type": "code",
   "execution_count": 57,
   "metadata": {},
   "outputs": [
    {
     "name": "stdout",
     "output_type": "stream",
     "text": [
      "@ round 1: q0= 0.022, q1= 0.026\n",
      "@ round 2: q0= 0.022, q1= 0.026\n",
      "@ round 3: q0= 0.022, q1= 0.026\n",
      "@ round 4: q0= 0.022, q1= 0.026\n",
      "@ round 5: q0= 0.022, q1= 0.026\n"
     ]
    }
   ],
   "source": [
    "for state in STATES_v2:\n",
    "    get_qvalues(state)"
   ]
  },
  {
   "cell_type": "code",
   "execution_count": 270,
   "metadata": {},
   "outputs": [
    {
     "data": {
      "text/plain": [
       "[4, 2, 1, 1, 1]"
      ]
     },
     "execution_count": 270,
     "metadata": {},
     "output_type": "execute_result"
    }
   ],
   "source": [
    "generate(4, winner=True)"
   ]
  },
  {
   "cell_type": "code",
   "execution_count": null,
   "metadata": {},
   "outputs": [],
   "source": []
  }
 ],
 "metadata": {
  "kernelspec": {
   "display_name": "env",
   "language": "python",
   "name": "python3"
  },
  "language_info": {
   "codemirror_mode": {
    "name": "ipython",
    "version": 3
   },
   "file_extension": ".py",
   "mimetype": "text/x-python",
   "name": "python",
   "nbconvert_exporter": "python",
   "pygments_lexer": "ipython3",
   "version": "3.9.19"
  }
 },
 "nbformat": 4,
 "nbformat_minor": 2
}
